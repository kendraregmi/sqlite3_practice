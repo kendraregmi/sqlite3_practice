{
 "cells": [
  {
   "cell_type": "code",
   "execution_count": 13,
   "id": "834b8fe7",
   "metadata": {},
   "outputs": [],
   "source": [
    "import sqlite3 # build in sqlite3 module "
   ]
  },
  {
   "cell_type": "code",
   "execution_count": 14,
   "id": "af80e7c2",
   "metadata": {},
   "outputs": [],
   "source": [
    "# create table \n",
    "# sqlite data types\n",
    "# integer - int\n",
    "# real - float \n",
    "# text - string, date, char, \n",
    "# blob- binary data\n",
    "# null - null"
   ]
  },
  {
   "cell_type": "code",
   "execution_count": 15,
   "id": "3dc16360",
   "metadata": {},
   "outputs": [],
   "source": [
    "# connect to the database (file will be created id doesnot exist )\n",
    "conn= sqlite3.connect('students.db')"
   ]
  },
  {
   "cell_type": "code",
   "execution_count": 16,
   "id": "947a9f00",
   "metadata": {},
   "outputs": [],
   "source": [
    "# create a cursor to execute a sql \n",
    "cursor= conn.cursor()"
   ]
  },
  {
   "cell_type": "code",
   "execution_count": 17,
   "id": "063b2629",
   "metadata": {},
   "outputs": [],
   "source": [
    "# create table\n",
    "cursor.execute(\"\"\"\n",
    "create table if not exists students (\n",
    "    id integer primary key autoincrement, \n",
    "    name text not null, \n",
    "    grade integer,\n",
    "    address text \n",
    ") \"\"\"\n",
    ")\n",
    "conn.commit()"
   ]
  },
  {
   "cell_type": "code",
   "execution_count": 18,
   "id": "f9a3e4b6",
   "metadata": {},
   "outputs": [],
   "source": [
    "# insert into table \n",
    "cursor.execute(\"\"\"insert into students(name, grade, address)\n",
    "values \n",
    "('Lima', 12, 'Ktm'), \n",
    "('Grey',11, 'Pok')\"\"\")\n",
    "\n",
    "conn.commit()"
   ]
  },
  {
   "cell_type": "code",
   "execution_count": 23,
   "id": "418bcc43",
   "metadata": {},
   "outputs": [],
   "source": [
    "# select \n",
    "cursor.execute(\"\"\"select * from students\"\"\")\n",
    "rows  = cursor.fetchall()"
   ]
  },
  {
   "cell_type": "code",
   "execution_count": 25,
   "id": "e27c1c73",
   "metadata": {},
   "outputs": [
    {
     "name": "stdout",
     "output_type": "stream",
     "text": [
      "(1, 'Lima', 12, 'Ktm')\n",
      "(2, 'Grey', 11, 'Pok')\n"
     ]
    }
   ],
   "source": [
    "for items in rows: \n",
    "    print(items)"
   ]
  },
  {
   "cell_type": "code",
   "execution_count": null,
   "id": "9f12126d",
   "metadata": {},
   "outputs": [],
   "source": [
    "# update \n",
    "cursor.execute(\"\"\"update students \n",
    "set address = 'Lalitpur'\n",
    "where name = 'Lima'\n",
    "\"\"\")\n",
    "\n",
    "conn.commit()"
   ]
  },
  {
   "cell_type": "code",
   "execution_count": null,
   "id": "261a5509",
   "metadata": {},
   "outputs": [],
   "source": [
    "# task 1- insert new record into students\n",
    "#task 2 - select from student where id = 4 \n",
    "# task 3- delete from student where id = 1 "
   ]
  },
  {
   "cell_type": "code",
   "execution_count": 27,
   "id": "e068280f",
   "metadata": {},
   "outputs": [],
   "source": [
    "# task 1- insert new record into students\n",
    "cursor.execute(\"\"\" insert into students(name, grade, address)\n",
    "values \n",
    "('Bishal', 10,'Kavre')\"\"\")\n",
    "\n",
    "conn.commit()"
   ]
  },
  {
   "cell_type": "code",
   "execution_count": 30,
   "id": "9e91ac61",
   "metadata": {},
   "outputs": [],
   "source": [
    "#task 2 - select from student where id = 4 \n",
    "cursor.execute(\"\"\"select * from students where id= 3 \"\"\")\n",
    "rows= cursor.fetchall()\n"
   ]
  },
  {
   "cell_type": "code",
   "execution_count": 31,
   "id": "2dc0e849",
   "metadata": {},
   "outputs": [
    {
     "data": {
      "text/plain": [
       "[(3, 'Bishal', 10, 'Kavre')]"
      ]
     },
     "execution_count": 31,
     "metadata": {},
     "output_type": "execute_result"
    }
   ],
   "source": [
    "rows"
   ]
  },
  {
   "cell_type": "code",
   "execution_count": 32,
   "id": "556f8aa8",
   "metadata": {},
   "outputs": [],
   "source": [
    "# close connection \n",
    "conn.close()"
   ]
  },
  {
   "cell_type": "code",
   "execution_count": null,
   "id": "e6aa0cb3",
   "metadata": {},
   "outputs": [],
   "source": [
    "# parameterized queries ---- user can pass the parameter\n",
    "# ? --> placeholder \n",
    "# values are passed as a tuple or list "
   ]
  },
  {
   "cell_type": "code",
   "execution_count": 34,
   "id": "0f5f438d",
   "metadata": {},
   "outputs": [],
   "source": [
    "conn= sqlite3.connect('students.db')"
   ]
  },
  {
   "cell_type": "code",
   "execution_count": 35,
   "id": "1651b01b",
   "metadata": {},
   "outputs": [],
   "source": [
    "cursor= conn.cursor()"
   ]
  },
  {
   "cell_type": "code",
   "execution_count": 37,
   "id": "5883b5b5",
   "metadata": {},
   "outputs": [],
   "source": [
    "name= 'Bishal'"
   ]
  },
  {
   "cell_type": "code",
   "execution_count": 38,
   "id": "f894babe",
   "metadata": {},
   "outputs": [
    {
     "data": {
      "text/plain": [
       "<sqlite3.Cursor at 0x106658640>"
      ]
     },
     "execution_count": 38,
     "metadata": {},
     "output_type": "execute_result"
    }
   ],
   "source": [
    "cursor.execute(\"select * from students where name= ?\", (name,)) "
   ]
  },
  {
   "cell_type": "code",
   "execution_count": 39,
   "id": "c958063c",
   "metadata": {},
   "outputs": [
    {
     "data": {
      "text/plain": [
       "[(3, 'Bishal', 10, 'Kavre')]"
      ]
     },
     "execution_count": 39,
     "metadata": {},
     "output_type": "execute_result"
    }
   ],
   "source": [
    "cursor.fetchall()"
   ]
  },
  {
   "cell_type": "code",
   "execution_count": null,
   "id": "d591b2fb",
   "metadata": {},
   "outputs": [],
   "source": [
    "# task 4= create a list of students record and pass it as parameterized query \n",
    "# to insert into students table"
   ]
  },
  {
   "cell_type": "code",
   "execution_count": 40,
   "id": "c7774451",
   "metadata": {},
   "outputs": [],
   "source": [
    "students = [\n",
    "    ('Abc', 1, 'Ktm'), \n",
    "    ('jamal', 2, 'Ktm')\n",
    "]\n",
    "\n",
    "cursor.executemany('insert into students(name, grade, address) values (?,?,?)', students)\n",
    "\n",
    "conn.commit()"
   ]
  },
  {
   "cell_type": "code",
   "execution_count": null,
   "id": "f31400ec",
   "metadata": {},
   "outputs": [],
   "source": []
  }
 ],
 "metadata": {
  "kernelspec": {
   "display_name": "Python 3",
   "language": "python",
   "name": "python3"
  },
  "language_info": {
   "codemirror_mode": {
    "name": "ipython",
    "version": 3
   },
   "file_extension": ".py",
   "mimetype": "text/x-python",
   "name": "python",
   "nbconvert_exporter": "python",
   "pygments_lexer": "ipython3",
   "version": "3.10.undefined"
  }
 },
 "nbformat": 4,
 "nbformat_minor": 5
}

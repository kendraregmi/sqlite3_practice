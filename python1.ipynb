{
 "cells": [
  {
   "cell_type": "markdown",
   "id": "767e2819",
   "metadata": {},
   "source": [
    "# THis is header 1 "
   ]
  },
  {
   "cell_type": "markdown",
   "id": "75ae0875",
   "metadata": {},
   "source": [
    "## this is header 2 "
   ]
  },
  {
   "cell_type": "markdown",
   "id": "28a18528",
   "metadata": {},
   "source": [
    "### this is header 3 "
   ]
  },
  {
   "cell_type": "markdown",
   "id": "5457d841",
   "metadata": {},
   "source": [
    "This is normal text <b> this is bold text <b> "
   ]
  },
  {
   "cell_type": "code",
   "execution_count": 1,
   "id": "7593b351",
   "metadata": {},
   "outputs": [
    {
     "name": "stdout",
     "output_type": "stream",
     "text": [
      "Hello, World!\n"
     ]
    }
   ],
   "source": [
    "print('Hello, World!')"
   ]
  },
  {
   "cell_type": "code",
   "execution_count": null,
   "id": "2a600cfa",
   "metadata": {},
   "outputs": [
    {
     "data": {
      "text/plain": [
       "' this is \\nmultiline \\ncomment\\n\\n '"
      ]
     },
     "execution_count": 2,
     "metadata": {},
     "output_type": "execute_result"
    }
   ],
   "source": [
    "# comment \n",
    "''' this is \n",
    "multiline \n",
    "comment\n",
    "\n",
    " '''\n",
    "\n",
    "# this \n",
    "# is \n",
    "# multiline comment"
   ]
  },
  {
   "cell_type": "code",
   "execution_count": 3,
   "id": "f19173da",
   "metadata": {},
   "outputs": [],
   "source": [
    "# create python variables \n",
    "\n",
    "name = 'ram'"
   ]
  },
  {
   "cell_type": "code",
   "execution_count": 4,
   "id": "00c51373",
   "metadata": {},
   "outputs": [
    {
     "data": {
      "text/plain": [
       "'ram'"
      ]
     },
     "execution_count": 4,
     "metadata": {},
     "output_type": "execute_result"
    }
   ],
   "source": [
    "name"
   ]
  },
  {
   "cell_type": "code",
   "execution_count": 5,
   "id": "2d0a5094",
   "metadata": {},
   "outputs": [],
   "source": [
    "# assign different value to the variable \n",
    "name= 'Hari'"
   ]
  },
  {
   "cell_type": "code",
   "execution_count": 7,
   "id": "53190a58",
   "metadata": {},
   "outputs": [
    {
     "data": {
      "text/plain": [
       "'Hari'"
      ]
     },
     "execution_count": 7,
     "metadata": {},
     "output_type": "execute_result"
    }
   ],
   "source": [
    "name"
   ]
  },
  {
   "cell_type": "code",
   "execution_count": 8,
   "id": "c5efbbe5",
   "metadata": {},
   "outputs": [],
   "source": [
    "a, b, c = 'Ram', '10', 10"
   ]
  },
  {
   "cell_type": "code",
   "execution_count": 9,
   "id": "bb6954ab",
   "metadata": {},
   "outputs": [
    {
     "data": {
      "text/plain": [
       "'Ram'"
      ]
     },
     "execution_count": 9,
     "metadata": {},
     "output_type": "execute_result"
    }
   ],
   "source": [
    "a"
   ]
  },
  {
   "cell_type": "code",
   "execution_count": 10,
   "id": "f91e01e9",
   "metadata": {},
   "outputs": [
    {
     "data": {
      "text/plain": [
       "'10'"
      ]
     },
     "execution_count": 10,
     "metadata": {},
     "output_type": "execute_result"
    }
   ],
   "source": [
    "b"
   ]
  },
  {
   "cell_type": "code",
   "execution_count": 11,
   "id": "781802ac",
   "metadata": {},
   "outputs": [],
   "source": [
    "x= y = 'Texas'"
   ]
  },
  {
   "cell_type": "code",
   "execution_count": 12,
   "id": "454e3d3c",
   "metadata": {},
   "outputs": [
    {
     "data": {
      "text/plain": [
       "'Texas'"
      ]
     },
     "execution_count": 12,
     "metadata": {},
     "output_type": "execute_result"
    }
   ],
   "source": [
    "x"
   ]
  },
  {
   "cell_type": "code",
   "execution_count": 13,
   "id": "deb0225c",
   "metadata": {},
   "outputs": [
    {
     "data": {
      "text/plain": [
       "'Texas'"
      ]
     },
     "execution_count": 13,
     "metadata": {},
     "output_type": "execute_result"
    }
   ],
   "source": [
    "y"
   ]
  },
  {
   "cell_type": "code",
   "execution_count": 14,
   "id": "f042764c",
   "metadata": {},
   "outputs": [],
   "source": [
    "_age= 10"
   ]
  },
  {
   "cell_type": "code",
   "execution_count": 15,
   "id": "37e62de1",
   "metadata": {},
   "outputs": [
    {
     "data": {
      "text/plain": [
       "10"
      ]
     },
     "execution_count": 15,
     "metadata": {},
     "output_type": "execute_result"
    }
   ],
   "source": [
    "_age"
   ]
  },
  {
   "cell_type": "code",
   "execution_count": 18,
   "id": "a74be72c",
   "metadata": {},
   "outputs": [],
   "source": [
    "name0= 'abc'"
   ]
  },
  {
   "cell_type": "code",
   "execution_count": 19,
   "id": "13c8ad90",
   "metadata": {},
   "outputs": [],
   "source": [
    "# types of variable \n",
    "# numeric - int, float , complex\n",
    "# text - str < '', \"\" >\n",
    "# boolean, True ,False \n",
    "# none type - None\n",
    "# list, dict, tuples, set, range "
   ]
  },
  {
   "cell_type": "code",
   "execution_count": 20,
   "id": "993e4fd1",
   "metadata": {},
   "outputs": [],
   "source": [
    "int1= 10"
   ]
  },
  {
   "cell_type": "code",
   "execution_count": 21,
   "id": "792da461",
   "metadata": {},
   "outputs": [
    {
     "data": {
      "text/plain": [
       "int"
      ]
     },
     "execution_count": 21,
     "metadata": {},
     "output_type": "execute_result"
    }
   ],
   "source": [
    "type(int1)"
   ]
  },
  {
   "cell_type": "code",
   "execution_count": 22,
   "id": "7b33e25e",
   "metadata": {},
   "outputs": [],
   "source": [
    "float1= 10.00"
   ]
  },
  {
   "cell_type": "code",
   "execution_count": 23,
   "id": "fbe1d76b",
   "metadata": {},
   "outputs": [
    {
     "data": {
      "text/plain": [
       "float"
      ]
     },
     "execution_count": 23,
     "metadata": {},
     "output_type": "execute_result"
    }
   ],
   "source": [
    "type(float1)"
   ]
  },
  {
   "cell_type": "code",
   "execution_count": 24,
   "id": "e2dc22ed",
   "metadata": {},
   "outputs": [],
   "source": [
    "com1= 1+6j"
   ]
  },
  {
   "cell_type": "code",
   "execution_count": 25,
   "id": "30525d41",
   "metadata": {},
   "outputs": [
    {
     "data": {
      "text/plain": [
       "complex"
      ]
     },
     "execution_count": 25,
     "metadata": {},
     "output_type": "execute_result"
    }
   ],
   "source": [
    "type(com1)"
   ]
  },
  {
   "cell_type": "code",
   "execution_count": 26,
   "id": "ab68c3ce",
   "metadata": {},
   "outputs": [],
   "source": [
    "name= 'abc'"
   ]
  },
  {
   "cell_type": "code",
   "execution_count": 28,
   "id": "e113f499",
   "metadata": {},
   "outputs": [
    {
     "data": {
      "text/plain": [
       "str"
      ]
     },
     "execution_count": 28,
     "metadata": {},
     "output_type": "execute_result"
    }
   ],
   "source": [
    "type(name)"
   ]
  },
  {
   "cell_type": "code",
   "execution_count": 29,
   "id": "e3995e7a",
   "metadata": {},
   "outputs": [],
   "source": [
    "name1= \"this is string\""
   ]
  },
  {
   "cell_type": "code",
   "execution_count": 30,
   "id": "e7c0e87b",
   "metadata": {},
   "outputs": [
    {
     "data": {
      "text/plain": [
       "str"
      ]
     },
     "execution_count": 30,
     "metadata": {},
     "output_type": "execute_result"
    }
   ],
   "source": [
    "type(name1)"
   ]
  },
  {
   "cell_type": "code",
   "execution_count": 31,
   "id": "b1365b79",
   "metadata": {},
   "outputs": [],
   "source": [
    "bool1= True "
   ]
  },
  {
   "cell_type": "code",
   "execution_count": 32,
   "id": "86dc21ec",
   "metadata": {},
   "outputs": [
    {
     "data": {
      "text/plain": [
       "bool"
      ]
     },
     "execution_count": 32,
     "metadata": {},
     "output_type": "execute_result"
    }
   ],
   "source": [
    "type(bool1)"
   ]
  },
  {
   "cell_type": "code",
   "execution_count": 33,
   "id": "f3b8115c",
   "metadata": {},
   "outputs": [],
   "source": [
    "none1= None"
   ]
  },
  {
   "cell_type": "code",
   "execution_count": 34,
   "id": "350c0345",
   "metadata": {},
   "outputs": [
    {
     "data": {
      "text/plain": [
       "NoneType"
      ]
     },
     "execution_count": 34,
     "metadata": {},
     "output_type": "execute_result"
    }
   ],
   "source": [
    "type(none1)"
   ]
  },
  {
   "cell_type": "code",
   "execution_count": null,
   "id": "913bab62",
   "metadata": {},
   "outputs": [
    {
     "name": "stdout",
     "output_type": "stream",
     "text": [
      "<class 'float'>\n",
      "<class 'int'>\n"
     ]
    }
   ],
   "source": [
    "# implicit type conversion \n",
    "f1= 10.12\n",
    "i1= 3 \n",
    "print(type(f1))\n",
    "print(type(i1))"
   ]
  },
  {
   "cell_type": "code",
   "execution_count": 37,
   "id": "41520d67",
   "metadata": {},
   "outputs": [],
   "source": [
    "i1= i1/f1"
   ]
  },
  {
   "cell_type": "code",
   "execution_count": 38,
   "id": "470ea845",
   "metadata": {},
   "outputs": [
    {
     "name": "stdout",
     "output_type": "stream",
     "text": [
      "0.2964426877470356\n",
      "<class 'float'>\n"
     ]
    }
   ],
   "source": [
    "print(i1)\n",
    "print(type(i1))"
   ]
  },
  {
   "cell_type": "code",
   "execution_count": null,
   "id": "e323e8b4",
   "metadata": {},
   "outputs": [],
   "source": [
    "#float(), str(), int()\n",
    "i1= int(i1)"
   ]
  },
  {
   "cell_type": "code",
   "execution_count": 40,
   "id": "95765ec8",
   "metadata": {},
   "outputs": [
    {
     "data": {
      "text/plain": [
       "int"
      ]
     },
     "execution_count": 40,
     "metadata": {},
     "output_type": "execute_result"
    }
   ],
   "source": [
    "type(i1)"
   ]
  },
  {
   "cell_type": "code",
   "execution_count": 41,
   "id": "cb5c5dcd",
   "metadata": {},
   "outputs": [
    {
     "data": {
      "text/plain": [
       "0"
      ]
     },
     "execution_count": 41,
     "metadata": {},
     "output_type": "execute_result"
    }
   ],
   "source": [
    "i1"
   ]
  },
  {
   "cell_type": "code",
   "execution_count": 42,
   "id": "b58b62b0",
   "metadata": {},
   "outputs": [
    {
     "data": {
      "text/plain": [
       "str"
      ]
     },
     "execution_count": 42,
     "metadata": {},
     "output_type": "execute_result"
    }
   ],
   "source": [
    "str2= '10'\n",
    "type(str2)"
   ]
  },
  {
   "cell_type": "code",
   "execution_count": 43,
   "id": "e75928da",
   "metadata": {},
   "outputs": [],
   "source": [
    "str2= int(str2)"
   ]
  },
  {
   "cell_type": "code",
   "execution_count": 44,
   "id": "613a3446",
   "metadata": {},
   "outputs": [
    {
     "data": {
      "text/plain": [
       "int"
      ]
     },
     "execution_count": 44,
     "metadata": {},
     "output_type": "execute_result"
    }
   ],
   "source": [
    "type(str2)"
   ]
  },
  {
   "cell_type": "code",
   "execution_count": 45,
   "id": "51e9a009",
   "metadata": {},
   "outputs": [
    {
     "data": {
      "text/plain": [
       "10"
      ]
     },
     "execution_count": 45,
     "metadata": {},
     "output_type": "execute_result"
    }
   ],
   "source": [
    "str2"
   ]
  },
  {
   "cell_type": "code",
   "execution_count": 46,
   "id": "2933c8e2",
   "metadata": {},
   "outputs": [
    {
     "data": {
      "text/plain": [
       "str"
      ]
     },
     "execution_count": 46,
     "metadata": {},
     "output_type": "execute_result"
    }
   ],
   "source": [
    "str3= '10.0'\n",
    "type(str3)"
   ]
  },
  {
   "cell_type": "code",
   "execution_count": 48,
   "id": "2bf25e75",
   "metadata": {},
   "outputs": [],
   "source": [
    "str3= float(str3)"
   ]
  },
  {
   "cell_type": "code",
   "execution_count": 49,
   "id": "76cf3c4f",
   "metadata": {},
   "outputs": [
    {
     "data": {
      "text/plain": [
       "10.0"
      ]
     },
     "execution_count": 49,
     "metadata": {},
     "output_type": "execute_result"
    }
   ],
   "source": [
    "str3"
   ]
  },
  {
   "cell_type": "code",
   "execution_count": 50,
   "id": "d9216d69",
   "metadata": {},
   "outputs": [
    {
     "data": {
      "text/plain": [
       "float"
      ]
     },
     "execution_count": 50,
     "metadata": {},
     "output_type": "execute_result"
    }
   ],
   "source": [
    "type(str3)"
   ]
  },
  {
   "cell_type": "code",
   "execution_count": null,
   "id": "0fb79273",
   "metadata": {},
   "outputs": [
    {
     "ename": "ValueError",
     "evalue": "could not convert string to float: 'this is string'",
     "output_type": "error",
     "traceback": [
      "\u001b[0;31m---------------------------------------------------------------------------\u001b[0m",
      "\u001b[0;31mValueError\u001b[0m                                Traceback (most recent call last)",
      "Cell \u001b[0;32mIn[52], line 3\u001b[0m\n\u001b[1;32m      1\u001b[0m str4\u001b[38;5;241m=\u001b[39m \u001b[38;5;124m'\u001b[39m\u001b[38;5;124mthis is string\u001b[39m\u001b[38;5;124m'\u001b[39m\n\u001b[0;32m----> 3\u001b[0m str4\u001b[38;5;241m=\u001b[39m \u001b[38;5;28;43mfloat\u001b[39;49m\u001b[43m(\u001b[49m\u001b[43mstr4\u001b[49m\u001b[43m)\u001b[49m\n",
      "\u001b[0;31mValueError\u001b[0m: could not convert string to float: 'this is string'"
     ]
    }
   ],
   "source": [
    "str4= 'this is string'\n",
    "\n",
    "# str4= float(str4)"
   ]
  },
  {
   "cell_type": "code",
   "execution_count": 53,
   "id": "6d2bf977",
   "metadata": {},
   "outputs": [],
   "source": [
    "#task 1 - take two number using input() and print() the sum of two no. \n"
   ]
  },
  {
   "cell_type": "code",
   "execution_count": 54,
   "id": "f45460e3",
   "metadata": {},
   "outputs": [],
   "source": [
    "x= input('Enter 1st number')\n",
    "y = input(\"Enter 2nd number\")"
   ]
  },
  {
   "cell_type": "code",
   "execution_count": 55,
   "id": "0f4773fe",
   "metadata": {},
   "outputs": [
    {
     "name": "stdout",
     "output_type": "stream",
     "text": [
      "<class 'str'>\n",
      "<class 'str'>\n"
     ]
    }
   ],
   "source": [
    "print(type(x))\n",
    "print(type(y))"
   ]
  },
  {
   "cell_type": "code",
   "execution_count": 56,
   "id": "b3846e95",
   "metadata": {},
   "outputs": [],
   "source": [
    "x= int(x)\n",
    "y=int(y)"
   ]
  },
  {
   "cell_type": "code",
   "execution_count": 57,
   "id": "1381faad",
   "metadata": {},
   "outputs": [
    {
     "name": "stdout",
     "output_type": "stream",
     "text": [
      "the sum is 3\n"
     ]
    }
   ],
   "source": [
    "print('the sum is', x+y)"
   ]
  },
  {
   "cell_type": "code",
   "execution_count": 59,
   "id": "1b617e11",
   "metadata": {},
   "outputs": [
    {
     "name": "stdout",
     "output_type": "stream",
     "text": [
      "The sum is 7\n"
     ]
    }
   ],
   "source": [
    "x= int(input('Enter 1st number'))\n",
    "y= int(input('Enter 2nd number'))\n",
    "print('The sum is', x + y)"
   ]
  },
  {
   "cell_type": "code",
   "execution_count": 60,
   "id": "a9379e3d",
   "metadata": {},
   "outputs": [],
   "source": [
    "# output format \n",
    "# using + \n",
    "# using f''\n",
    "# using .format"
   ]
  },
  {
   "cell_type": "code",
   "execution_count": 63,
   "id": "2303c77a",
   "metadata": {},
   "outputs": [],
   "source": [
    "name= 'Alez'\n",
    "age= '20' "
   ]
  },
  {
   "cell_type": "code",
   "execution_count": 66,
   "id": "a4d75a0e",
   "metadata": {},
   "outputs": [
    {
     "name": "stdout",
     "output_type": "stream",
     "text": [
      "My name is Alez and age is 20\n"
     ]
    }
   ],
   "source": [
    "# output format using +\n",
    "print('My name is '+ name + ' and age is ' + age)"
   ]
  },
  {
   "cell_type": "code",
   "execution_count": 70,
   "id": "9d0aa560",
   "metadata": {},
   "outputs": [
    {
     "name": "stdout",
     "output_type": "stream",
     "text": [
      "My name is  Alez  and age is  30\n"
     ]
    }
   ],
   "source": [
    "# using , \n",
    "name= 'Alez'\n",
    "age= 30 \n",
    "print('My name is ', name ,' and age is ' , age)"
   ]
  },
  {
   "cell_type": "code",
   "execution_count": null,
   "id": "946909da",
   "metadata": {},
   "outputs": [
    {
     "name": "stdout",
     "output_type": "stream",
     "text": [
      "My name is Alez and age is 30\n"
     ]
    }
   ],
   "source": [
    "# using f\"\"- f string method \n",
    "print(f\"My name is {name} and age is {age}\")"
   ]
  },
  {
   "cell_type": "code",
   "execution_count": 72,
   "id": "c0ca7cfe",
   "metadata": {},
   "outputs": [
    {
     "name": "stdout",
     "output_type": "stream",
     "text": [
      "My name is Alez and age is 30\n"
     ]
    }
   ],
   "source": [
    "# .format method \n",
    "print(\"My name is {} and age is {}\".format(name, age))"
   ]
  },
  {
   "cell_type": "code",
   "execution_count": 73,
   "id": "e7d3bc41",
   "metadata": {},
   "outputs": [],
   "source": [
    "# list \n",
    "# dict\n",
    "# tuple\n",
    "# set "
   ]
  },
  {
   "cell_type": "code",
   "execution_count": 74,
   "id": "ec1d2cad",
   "metadata": {},
   "outputs": [],
   "source": [
    "# list []\n",
    "\n",
    "lis1= [1,2,'abd', 7+8j]"
   ]
  },
  {
   "cell_type": "code",
   "execution_count": 75,
   "id": "9dbc1b31",
   "metadata": {},
   "outputs": [
    {
     "data": {
      "text/plain": [
       "list"
      ]
     },
     "execution_count": 75,
     "metadata": {},
     "output_type": "execute_result"
    }
   ],
   "source": [
    "type(lis1)"
   ]
  },
  {
   "cell_type": "code",
   "execution_count": 76,
   "id": "4c3b5e1c",
   "metadata": {},
   "outputs": [],
   "source": [
    "lis2= ['10', 10, 10.0, [1,2,3]]"
   ]
  },
  {
   "cell_type": "code",
   "execution_count": 77,
   "id": "98a970ba",
   "metadata": {},
   "outputs": [
    {
     "name": "stdout",
     "output_type": "stream",
     "text": [
      "['10', 10, 10.0, [1, 2, 3]]\n"
     ]
    }
   ],
   "source": [
    "print(lis2)"
   ]
  },
  {
   "cell_type": "code",
   "execution_count": 78,
   "id": "e30a88d3",
   "metadata": {},
   "outputs": [
    {
     "data": {
      "text/plain": [
       "10.0"
      ]
     },
     "execution_count": 78,
     "metadata": {},
     "output_type": "execute_result"
    }
   ],
   "source": [
    "#ordered \n",
    "lis2[-2]"
   ]
  },
  {
   "cell_type": "code",
   "execution_count": 79,
   "id": "a911f033",
   "metadata": {},
   "outputs": [],
   "source": [
    "# mutable - can change the value \n",
    "# allow duplicates "
   ]
  },
  {
   "cell_type": "code",
   "execution_count": 80,
   "id": "ad9281de",
   "metadata": {},
   "outputs": [
    {
     "data": {
      "text/plain": [
       "'10'"
      ]
     },
     "execution_count": 80,
     "metadata": {},
     "output_type": "execute_result"
    }
   ],
   "source": [
    "lis2[0]"
   ]
  },
  {
   "cell_type": "code",
   "execution_count": 81,
   "id": "3147b4fa",
   "metadata": {},
   "outputs": [
    {
     "data": {
      "text/plain": [
       "[1, 2, 3]"
      ]
     },
     "execution_count": 81,
     "metadata": {},
     "output_type": "execute_result"
    }
   ],
   "source": [
    "lis2[-1]"
   ]
  },
  {
   "cell_type": "code",
   "execution_count": 88,
   "id": "484e32ab",
   "metadata": {},
   "outputs": [
    {
     "data": {
      "text/plain": [
       "1"
      ]
     },
     "execution_count": 88,
     "metadata": {},
     "output_type": "execute_result"
    }
   ],
   "source": [
    "lis2[-1][0]"
   ]
  },
  {
   "cell_type": "code",
   "execution_count": 91,
   "id": "03d07837",
   "metadata": {},
   "outputs": [
    {
     "data": {
      "text/plain": [
       "['10', 10]"
      ]
     },
     "execution_count": 91,
     "metadata": {},
     "output_type": "execute_result"
    }
   ],
   "source": [
    "#slicing operations \n",
    "lis2[0:2]"
   ]
  },
  {
   "cell_type": "code",
   "execution_count": 92,
   "id": "6a536a39",
   "metadata": {},
   "outputs": [],
   "source": [
    "# create a list and perform indexing, negative indexing, slicing operations"
   ]
  },
  {
   "cell_type": "code",
   "execution_count": 93,
   "id": "e477ac97",
   "metadata": {},
   "outputs": [
    {
     "name": "stdout",
     "output_type": "stream",
     "text": [
      "10\n",
      "10\n",
      "10.0\n",
      "[1, 2, 3]\n"
     ]
    }
   ],
   "source": [
    "# iterate through a list \n",
    "for items in lis2:\n",
    "    print(items)"
   ]
  },
  {
   "cell_type": "code",
   "execution_count": 95,
   "id": "e9c89e0d",
   "metadata": {},
   "outputs": [],
   "source": [
    "# tuple - ()\n",
    "# ordered \n",
    "# allow duplicates \n",
    "# immutable "
   ]
  },
  {
   "cell_type": "code",
   "execution_count": 99,
   "id": "ebfa4411",
   "metadata": {},
   "outputs": [],
   "source": [
    "tup1= (1,2,3, 3)"
   ]
  },
  {
   "cell_type": "code",
   "execution_count": 100,
   "id": "91688dce",
   "metadata": {},
   "outputs": [
    {
     "data": {
      "text/plain": [
       "tuple"
      ]
     },
     "execution_count": 100,
     "metadata": {},
     "output_type": "execute_result"
    }
   ],
   "source": [
    "type(tup1)"
   ]
  },
  {
   "cell_type": "code",
   "execution_count": 101,
   "id": "e976a8a0",
   "metadata": {},
   "outputs": [
    {
     "data": {
      "text/plain": [
       "1"
      ]
     },
     "execution_count": 101,
     "metadata": {},
     "output_type": "execute_result"
    }
   ],
   "source": [
    "tup1[0]"
   ]
  },
  {
   "cell_type": "code",
   "execution_count": 103,
   "id": "cb158e37",
   "metadata": {},
   "outputs": [],
   "source": [
    "lis1[0]= 2"
   ]
  },
  {
   "cell_type": "code",
   "execution_count": 104,
   "id": "26cb13b0",
   "metadata": {},
   "outputs": [
    {
     "data": {
      "text/plain": [
       "2"
      ]
     },
     "execution_count": 104,
     "metadata": {},
     "output_type": "execute_result"
    }
   ],
   "source": [
    "lis1[0]"
   ]
  },
  {
   "cell_type": "code",
   "execution_count": 105,
   "id": "72d960a4",
   "metadata": {},
   "outputs": [
    {
     "data": {
      "text/plain": [
       "1"
      ]
     },
     "execution_count": 105,
     "metadata": {},
     "output_type": "execute_result"
    }
   ],
   "source": [
    "tup1[0]"
   ]
  },
  {
   "cell_type": "code",
   "execution_count": 106,
   "id": "bb8b4e8c",
   "metadata": {},
   "outputs": [
    {
     "ename": "TypeError",
     "evalue": "'tuple' object does not support item assignment",
     "output_type": "error",
     "traceback": [
      "\u001b[0;31m---------------------------------------------------------------------------\u001b[0m",
      "\u001b[0;31mTypeError\u001b[0m                                 Traceback (most recent call last)",
      "Cell \u001b[0;32mIn[106], line 1\u001b[0m\n\u001b[0;32m----> 1\u001b[0m \u001b[43mtup1\u001b[49m\u001b[43m[\u001b[49m\u001b[38;5;241;43m0\u001b[39;49m\u001b[43m]\u001b[49m\u001b[38;5;241m=\u001b[39m \u001b[38;5;241m10\u001b[39m\n",
      "\u001b[0;31mTypeError\u001b[0m: 'tuple' object does not support item assignment"
     ]
    }
   ],
   "source": [
    "tup1[0]= 10"
   ]
  },
  {
   "cell_type": "code",
   "execution_count": 107,
   "id": "84cf869f",
   "metadata": {},
   "outputs": [
    {
     "data": {
      "text/plain": [
       "(1, 2, 3, 3)"
      ]
     },
     "execution_count": 107,
     "metadata": {},
     "output_type": "execute_result"
    }
   ],
   "source": [
    "tup1"
   ]
  },
  {
   "cell_type": "code",
   "execution_count": 108,
   "id": "13e971f9",
   "metadata": {},
   "outputs": [],
   "source": [
    "tup1= (11,11,11,11)"
   ]
  },
  {
   "cell_type": "code",
   "execution_count": 109,
   "id": "69412cc4",
   "metadata": {},
   "outputs": [
    {
     "data": {
      "text/plain": [
       "(11, 11, 11, 11)"
      ]
     },
     "execution_count": 109,
     "metadata": {},
     "output_type": "execute_result"
    }
   ],
   "source": [
    "tup1"
   ]
  },
  {
   "cell_type": "code",
   "execution_count": 110,
   "id": "da17a764",
   "metadata": {},
   "outputs": [
    {
     "data": {
      "text/plain": [
       "tuple"
      ]
     },
     "execution_count": 110,
     "metadata": {},
     "output_type": "execute_result"
    }
   ],
   "source": [
    "type(tup1)"
   ]
  },
  {
   "cell_type": "code",
   "execution_count": null,
   "id": "b6708f0f",
   "metadata": {},
   "outputs": [],
   "source": [
    "# sets \n",
    "# unique (no duplicates)\n",
    "# unordered\n",
    "# mutable  \n",
    "#set operations- union, intersection, differece, "
   ]
  },
  {
   "cell_type": "code",
   "execution_count": 112,
   "id": "b86eacd4",
   "metadata": {},
   "outputs": [],
   "source": [
    "s1= set()"
   ]
  },
  {
   "cell_type": "code",
   "execution_count": 113,
   "id": "ed923e11",
   "metadata": {},
   "outputs": [
    {
     "data": {
      "text/plain": [
       "set"
      ]
     },
     "execution_count": 113,
     "metadata": {},
     "output_type": "execute_result"
    }
   ],
   "source": [
    "type(s1)"
   ]
  },
  {
   "cell_type": "code",
   "execution_count": 114,
   "id": "f8ba160b",
   "metadata": {},
   "outputs": [],
   "source": [
    "s1 = {2,3,4,5,6}"
   ]
  },
  {
   "cell_type": "code",
   "execution_count": 115,
   "id": "755846a0",
   "metadata": {},
   "outputs": [
    {
     "data": {
      "text/plain": [
       "set"
      ]
     },
     "execution_count": 115,
     "metadata": {},
     "output_type": "execute_result"
    }
   ],
   "source": [
    "type(s1)"
   ]
  },
  {
   "cell_type": "code",
   "execution_count": 116,
   "id": "cf0297ce",
   "metadata": {},
   "outputs": [],
   "source": [
    "s2= {2,3,4,5,6,6,6}"
   ]
  },
  {
   "cell_type": "code",
   "execution_count": 117,
   "id": "d5fc025a",
   "metadata": {},
   "outputs": [
    {
     "data": {
      "text/plain": [
       "{2, 3, 4, 5, 6}"
      ]
     },
     "execution_count": 117,
     "metadata": {},
     "output_type": "execute_result"
    }
   ],
   "source": [
    "s2"
   ]
  },
  {
   "cell_type": "code",
   "execution_count": 118,
   "id": "9309afec",
   "metadata": {},
   "outputs": [
    {
     "ename": "TypeError",
     "evalue": "'set' object is not subscriptable",
     "output_type": "error",
     "traceback": [
      "\u001b[0;31m---------------------------------------------------------------------------\u001b[0m",
      "\u001b[0;31mTypeError\u001b[0m                                 Traceback (most recent call last)",
      "Cell \u001b[0;32mIn[118], line 1\u001b[0m\n\u001b[0;32m----> 1\u001b[0m \u001b[43ms2\u001b[49m\u001b[43m[\u001b[49m\u001b[38;5;241;43m0\u001b[39;49m\u001b[43m]\u001b[49m\n",
      "\u001b[0;31mTypeError\u001b[0m: 'set' object is not subscriptable"
     ]
    }
   ],
   "source": [
    "s2[0]"
   ]
  },
  {
   "cell_type": "code",
   "execution_count": 121,
   "id": "00615149",
   "metadata": {},
   "outputs": [],
   "source": [
    "# task 2- create 2 sets and perform union on two sets "
   ]
  },
  {
   "cell_type": "code",
   "execution_count": 122,
   "id": "089b539e",
   "metadata": {},
   "outputs": [],
   "source": [
    "# a | b ,  a.union(b)"
   ]
  },
  {
   "cell_type": "code",
   "execution_count": 124,
   "id": "c4815aae",
   "metadata": {},
   "outputs": [],
   "source": [
    "# create a python dictionary : key and value pair, eg. n\n",
    "dict1= { 'name':'ihsa',\n",
    "        'age':34,\n",
    "        'address':'ktm'\n",
    "\n",
    "}"
   ]
  },
  {
   "cell_type": "code",
   "execution_count": 125,
   "id": "82c06602",
   "metadata": {},
   "outputs": [
    {
     "data": {
      "text/plain": [
       "{'name': 'ihsa', 'age': 34, 'address': 'ktm'}"
      ]
     },
     "execution_count": 125,
     "metadata": {},
     "output_type": "execute_result"
    }
   ],
   "source": [
    "dict1"
   ]
  },
  {
   "cell_type": "code",
   "execution_count": 126,
   "id": "cb6fc2b4",
   "metadata": {},
   "outputs": [
    {
     "data": {
      "text/plain": [
       "34"
      ]
     },
     "execution_count": 126,
     "metadata": {},
     "output_type": "execute_result"
    }
   ],
   "source": [
    "dict1['age']"
   ]
  },
  {
   "cell_type": "code",
   "execution_count": 127,
   "id": "fdea35a0",
   "metadata": {},
   "outputs": [],
   "source": [
    "dict1['age']= 23"
   ]
  },
  {
   "cell_type": "code",
   "execution_count": 128,
   "id": "9c5a7d4b",
   "metadata": {},
   "outputs": [
    {
     "data": {
      "text/plain": [
       "{'name': 'ihsa', 'age': 23, 'address': 'ktm'}"
      ]
     },
     "execution_count": 128,
     "metadata": {},
     "output_type": "execute_result"
    }
   ],
   "source": [
    "dict1"
   ]
  },
  {
   "cell_type": "code",
   "execution_count": 129,
   "id": "36b87b63",
   "metadata": {},
   "outputs": [],
   "source": [
    "set3= {1,2,3,4,5}"
   ]
  },
  {
   "cell_type": "code",
   "execution_count": 131,
   "id": "0ec25dc6",
   "metadata": {},
   "outputs": [],
   "source": [
    "set3.add(8)"
   ]
  },
  {
   "cell_type": "code",
   "execution_count": 132,
   "id": "4492c74a",
   "metadata": {},
   "outputs": [
    {
     "data": {
      "text/plain": [
       "{1, 2, 3, 4, 5, 8}"
      ]
     },
     "execution_count": 132,
     "metadata": {},
     "output_type": "execute_result"
    }
   ],
   "source": [
    "set3"
   ]
  },
  {
   "cell_type": "code",
   "execution_count": 133,
   "id": "13a0f0e1",
   "metadata": {},
   "outputs": [],
   "source": [
    "set3.remove(3)"
   ]
  },
  {
   "cell_type": "code",
   "execution_count": 134,
   "id": "89a32ae1",
   "metadata": {},
   "outputs": [
    {
     "data": {
      "text/plain": [
       "{1, 2, 4, 5, 8}"
      ]
     },
     "execution_count": 134,
     "metadata": {},
     "output_type": "execute_result"
    }
   ],
   "source": [
    "set3 "
   ]
  },
  {
   "cell_type": "code",
   "execution_count": 135,
   "id": "bc73b198",
   "metadata": {},
   "outputs": [],
   "source": [
    "# frozenset - immutable set \n",
    "fs= frozenset([1,2,3,3,3,4,5,6])"
   ]
  },
  {
   "cell_type": "code",
   "execution_count": 136,
   "id": "ad34d1f3",
   "metadata": {},
   "outputs": [
    {
     "data": {
      "text/plain": [
       "frozenset({1, 2, 3, 4, 5, 6})"
      ]
     },
     "execution_count": 136,
     "metadata": {},
     "output_type": "execute_result"
    }
   ],
   "source": [
    "fs"
   ]
  },
  {
   "cell_type": "code",
   "execution_count": 137,
   "id": "59cd99b5",
   "metadata": {},
   "outputs": [
    {
     "ename": "AttributeError",
     "evalue": "'frozenset' object has no attribute 'add'",
     "output_type": "error",
     "traceback": [
      "\u001b[0;31m---------------------------------------------------------------------------\u001b[0m",
      "\u001b[0;31mAttributeError\u001b[0m                            Traceback (most recent call last)",
      "Cell \u001b[0;32mIn[137], line 1\u001b[0m\n\u001b[0;32m----> 1\u001b[0m \u001b[43mfs\u001b[49m\u001b[38;5;241;43m.\u001b[39;49m\u001b[43madd\u001b[49m(\u001b[38;5;241m10\u001b[39m)\n",
      "\u001b[0;31mAttributeError\u001b[0m: 'frozenset' object has no attribute 'add'"
     ]
    }
   ],
   "source": [
    "fs.add(10)"
   ]
  },
  {
   "cell_type": "code",
   "execution_count": 138,
   "id": "dd187f4e",
   "metadata": {},
   "outputs": [],
   "source": [
    "# deque - double ended queue \n",
    "from collections import deque "
   ]
  },
  {
   "cell_type": "code",
   "execution_count": 139,
   "id": "aa2ec1a8",
   "metadata": {},
   "outputs": [],
   "source": [
    "dq= deque([1,2,3])"
   ]
  },
  {
   "cell_type": "code",
   "execution_count": 141,
   "id": "af6a3e89",
   "metadata": {},
   "outputs": [
    {
     "data": {
      "text/plain": [
       "collections.deque"
      ]
     },
     "execution_count": 141,
     "metadata": {},
     "output_type": "execute_result"
    }
   ],
   "source": [
    "type(dq)"
   ]
  },
  {
   "cell_type": "code",
   "execution_count": 142,
   "id": "17f45cd7",
   "metadata": {},
   "outputs": [],
   "source": [
    "dq.append(4)"
   ]
  },
  {
   "cell_type": "code",
   "execution_count": 143,
   "id": "0b15866a",
   "metadata": {},
   "outputs": [
    {
     "data": {
      "text/plain": [
       "deque([1, 2, 3, 4])"
      ]
     },
     "execution_count": 143,
     "metadata": {},
     "output_type": "execute_result"
    }
   ],
   "source": [
    "dq"
   ]
  },
  {
   "cell_type": "code",
   "execution_count": 144,
   "id": "2cedcb3e",
   "metadata": {},
   "outputs": [],
   "source": [
    "dq.appendleft(0)"
   ]
  },
  {
   "cell_type": "code",
   "execution_count": 146,
   "id": "1c88be31",
   "metadata": {},
   "outputs": [
    {
     "data": {
      "text/plain": [
       "deque([0, 1, 2, 3, 4])"
      ]
     },
     "execution_count": 146,
     "metadata": {},
     "output_type": "execute_result"
    }
   ],
   "source": [
    "dq"
   ]
  },
  {
   "cell_type": "code",
   "execution_count": null,
   "id": "823ee5aa",
   "metadata": {},
   "outputs": [],
   "source": [
    "# pop \n",
    "# popleft "
   ]
  },
  {
   "cell_type": "code",
   "execution_count": 147,
   "id": "829622ba",
   "metadata": {},
   "outputs": [],
   "source": [
    "#defaultdict \n",
    "from collections import defaultdict\n",
    "dd= defaultdict(list)"
   ]
  },
  {
   "cell_type": "code",
   "execution_count": 148,
   "id": "33666fb1",
   "metadata": {},
   "outputs": [
    {
     "data": {
      "text/plain": [
       "defaultdict(list, {})"
      ]
     },
     "execution_count": 148,
     "metadata": {},
     "output_type": "execute_result"
    }
   ],
   "source": [
    "dd"
   ]
  },
  {
   "cell_type": "code",
   "execution_count": 149,
   "id": "0a470748",
   "metadata": {},
   "outputs": [],
   "source": [
    "dd['name'].append('apple')"
   ]
  },
  {
   "cell_type": "code",
   "execution_count": 150,
   "id": "838b4379",
   "metadata": {},
   "outputs": [
    {
     "data": {
      "text/plain": [
       "defaultdict(list, {'name': ['apple']})"
      ]
     },
     "execution_count": 150,
     "metadata": {},
     "output_type": "execute_result"
    }
   ],
   "source": [
    "dd"
   ]
  },
  {
   "cell_type": "code",
   "execution_count": 151,
   "id": "f5b4df19",
   "metadata": {},
   "outputs": [],
   "source": [
    "dd['name'].append('banana')"
   ]
  },
  {
   "cell_type": "code",
   "execution_count": 152,
   "id": "dea7d060",
   "metadata": {},
   "outputs": [
    {
     "data": {
      "text/plain": [
       "defaultdict(list, {'name': ['apple', 'banana']})"
      ]
     },
     "execution_count": 152,
     "metadata": {},
     "output_type": "execute_result"
    }
   ],
   "source": [
    "dd"
   ]
  },
  {
   "cell_type": "code",
   "execution_count": 153,
   "id": "d032886b",
   "metadata": {},
   "outputs": [],
   "source": [
    "#counter \n",
    "from collections import Counter\n",
    "\n",
    "c= Counter('aaabbssbsssjjssk')"
   ]
  },
  {
   "cell_type": "code",
   "execution_count": 154,
   "id": "e20d5ed0",
   "metadata": {},
   "outputs": [
    {
     "data": {
      "text/plain": [
       "Counter({'s': 7, 'a': 3, 'b': 3, 'j': 2, 'k': 1})"
      ]
     },
     "execution_count": 154,
     "metadata": {},
     "output_type": "execute_result"
    }
   ],
   "source": [
    "c"
   ]
  },
  {
   "cell_type": "code",
   "execution_count": 155,
   "id": "f4952651",
   "metadata": {},
   "outputs": [],
   "source": [
    "# list comprehensions \n",
    "# generate a square no of the given list \n",
    "# [expression for item in iterable if condition]"
   ]
  },
  {
   "cell_type": "code",
   "execution_count": 156,
   "id": "f6befd76",
   "metadata": {},
   "outputs": [],
   "source": [
    "l1= [2,3,4,45,44,4]"
   ]
  },
  {
   "cell_type": "code",
   "execution_count": null,
   "id": "cdb4d73d",
   "metadata": {},
   "outputs": [],
   "source": [
    "for item in l1:\n",
    "    print(item*item)"
   ]
  },
  {
   "cell_type": "code",
   "execution_count": 157,
   "id": "b6418b46",
   "metadata": {},
   "outputs": [],
   "source": [
    "lc= [item*item for item in l1 ]"
   ]
  },
  {
   "cell_type": "code",
   "execution_count": 158,
   "id": "538518be",
   "metadata": {},
   "outputs": [
    {
     "data": {
      "text/plain": [
       "[4, 9, 16, 2025, 1936, 16]"
      ]
     },
     "execution_count": 158,
     "metadata": {},
     "output_type": "execute_result"
    }
   ],
   "source": [
    "lc"
   ]
  },
  {
   "cell_type": "code",
   "execution_count": 159,
   "id": "8adff893",
   "metadata": {},
   "outputs": [],
   "source": [
    "# using list comprehension find the even no from the given list \n",
    "l2= [1,2,3,4,5,6,7,33,44,55]\n",
    "\n",
    "lc2= [item for item in l2 if item%2==0 ]"
   ]
  },
  {
   "cell_type": "code",
   "execution_count": 160,
   "id": "c72be248",
   "metadata": {},
   "outputs": [
    {
     "data": {
      "text/plain": [
       "[2, 4, 6, 44]"
      ]
     },
     "execution_count": 160,
     "metadata": {},
     "output_type": "execute_result"
    }
   ],
   "source": [
    "lc2"
   ]
  },
  {
   "cell_type": "code",
   "execution_count": 161,
   "id": "c2ae2cde",
   "metadata": {},
   "outputs": [],
   "source": [
    "# create a list comprehension to change into uppercase \n",
    "# .upper()"
   ]
  },
  {
   "cell_type": "code",
   "execution_count": 162,
   "id": "15c31d7e",
   "metadata": {},
   "outputs": [],
   "source": [
    "name= ['Adam', 'Eve', 'Nelson', 'Ram']\n",
    "lc3= [item.upper() for item in name]"
   ]
  },
  {
   "cell_type": "code",
   "execution_count": 163,
   "id": "0223216f",
   "metadata": {},
   "outputs": [
    {
     "data": {
      "text/plain": [
       "['ADAM', 'EVE', 'NELSON', 'RAM']"
      ]
     },
     "execution_count": 163,
     "metadata": {},
     "output_type": "execute_result"
    }
   ],
   "source": [
    "lc3"
   ]
  },
  {
   "cell_type": "code",
   "execution_count": 165,
   "id": "70fbf78e",
   "metadata": {},
   "outputs": [],
   "source": [
    "#dictionary comprehension \n",
    "lc4= {item:item.upper() for item in name}"
   ]
  },
  {
   "cell_type": "code",
   "execution_count": 166,
   "id": "49aaae97",
   "metadata": {},
   "outputs": [
    {
     "data": {
      "text/plain": [
       "{'Adam': 'ADAM', 'Eve': 'EVE', 'Nelson': 'NELSON', 'Ram': 'RAM'}"
      ]
     },
     "execution_count": 166,
     "metadata": {},
     "output_type": "execute_result"
    }
   ],
   "source": [
    "lc4"
   ]
  },
  {
   "cell_type": "code",
   "execution_count": 167,
   "id": "f5f8a96c",
   "metadata": {},
   "outputs": [],
   "source": [
    "# task 3 : create a dict comprehension to print square no upto 10 keys\n",
    "\n",
    "lc5= {item:item*item for item in range(10)}"
   ]
  },
  {
   "cell_type": "code",
   "execution_count": 168,
   "id": "9a626ef2",
   "metadata": {},
   "outputs": [
    {
     "data": {
      "text/plain": [
       "{0: 0, 1: 1, 2: 4, 3: 9, 4: 16, 5: 25, 6: 36, 7: 49, 8: 64, 9: 81}"
      ]
     },
     "execution_count": 168,
     "metadata": {},
     "output_type": "execute_result"
    }
   ],
   "source": [
    "lc5"
   ]
  },
  {
   "cell_type": "code",
   "execution_count": 171,
   "id": "7fcee5ad",
   "metadata": {},
   "outputs": [],
   "source": [
    "# generators \n",
    "g1= (item for item in range(10) )"
   ]
  },
  {
   "cell_type": "code",
   "execution_count": 172,
   "id": "03d98eaa",
   "metadata": {},
   "outputs": [
    {
     "data": {
      "text/plain": [
       "<generator object <genexpr> at 0x10595c900>"
      ]
     },
     "execution_count": 172,
     "metadata": {},
     "output_type": "execute_result"
    }
   ],
   "source": [
    "g1"
   ]
  },
  {
   "cell_type": "code",
   "execution_count": 173,
   "id": "19ed44cc",
   "metadata": {},
   "outputs": [
    {
     "data": {
      "text/plain": [
       "0"
      ]
     },
     "execution_count": 173,
     "metadata": {},
     "output_type": "execute_result"
    }
   ],
   "source": [
    "next(g1)"
   ]
  },
  {
   "cell_type": "code",
   "execution_count": 174,
   "id": "9eab1465",
   "metadata": {},
   "outputs": [
    {
     "data": {
      "text/plain": [
       "1"
      ]
     },
     "execution_count": 174,
     "metadata": {},
     "output_type": "execute_result"
    }
   ],
   "source": [
    "next(g1)"
   ]
  },
  {
   "cell_type": "code",
   "execution_count": 1,
   "id": "992aa330",
   "metadata": {},
   "outputs": [],
   "source": [
    "# map, filter reduce , lamdba"
   ]
  },
  {
   "cell_type": "code",
   "execution_count": null,
   "id": "c1367d55",
   "metadata": {},
   "outputs": [],
   "source": [
    "def func_name(parameter1, parameter2):\n",
    "    #this is function body \n",
    "    return None\n",
    "\n",
    "func_name(1,2) #calling the function"
   ]
  },
  {
   "cell_type": "code",
   "execution_count": null,
   "id": "7a082465",
   "metadata": {},
   "outputs": [],
   "source": [
    "# lambda --> small , one line function \n",
    "#syntax \n",
    "# lambda parameter/argument: function_body/expression"
   ]
  },
  {
   "cell_type": "code",
   "execution_count": 4,
   "id": "4dbdc185",
   "metadata": {},
   "outputs": [
    {
     "name": "stdout",
     "output_type": "stream",
     "text": [
      "25\n"
     ]
    }
   ],
   "source": [
    "def sqr_func(x):\n",
    "    return x * x \n",
    "\n",
    "result= sqr_func(5)\n",
    "print(result)"
   ]
  },
  {
   "cell_type": "code",
   "execution_count": 5,
   "id": "7d5ae98e",
   "metadata": {},
   "outputs": [
    {
     "data": {
      "text/plain": [
       "25"
      ]
     },
     "execution_count": 5,
     "metadata": {},
     "output_type": "execute_result"
    }
   ],
   "source": [
    "# create a lambda function to get the square of the number: \n",
    "re= lambda x: x * x\n",
    "re(5)"
   ]
  },
  {
   "cell_type": "code",
   "execution_count": 6,
   "id": "f5b29a11",
   "metadata": {},
   "outputs": [],
   "source": [
    "# map ---> applies function to every iterable \n",
    "#iterable like list \n",
    "# function \n",
    "# map applies function to every item of the list "
   ]
  },
  {
   "cell_type": "code",
   "execution_count": 9,
   "id": "1c59fa5f",
   "metadata": {},
   "outputs": [],
   "source": [
    " # map(function, iterable)\n",
    "num1= [1,2,3,4]\n",
    "# add 3 to every iterable of list num1 \n",
    "\n",
    "add_3= list(map(lambda x:x + 3, num1)) "
   ]
  },
  {
   "cell_type": "code",
   "execution_count": 10,
   "id": "ee0ac296",
   "metadata": {},
   "outputs": [
    {
     "data": {
      "text/plain": [
       "[4, 5, 6, 7]"
      ]
     },
     "execution_count": 10,
     "metadata": {},
     "output_type": "execute_result"
    }
   ],
   "source": [
    "add_3"
   ]
  },
  {
   "cell_type": "code",
   "execution_count": 11,
   "id": "1df56dc4",
   "metadata": {},
   "outputs": [],
   "source": [
    "# filter \n",
    "# filter(function, iterable)\n",
    "# return the true value \n",
    "# task 1: using filter from the list filter numbers divisible by 3 \n",
    "# example list: [1,2,3,4,5,6,7,8,9,10,11,12]"
   ]
  },
  {
   "cell_type": "code",
   "execution_count": 12,
   "id": "73a2953c",
   "metadata": {},
   "outputs": [],
   "source": [
    "lis2= [1,2,3,4,5,6,7,8,9,10,11,12]\n",
    "f1= list(filter(lambda x: x%3==0, lis2))"
   ]
  },
  {
   "cell_type": "code",
   "execution_count": 13,
   "id": "1b93f1fe",
   "metadata": {},
   "outputs": [
    {
     "data": {
      "text/plain": [
       "[3, 6, 9, 12]"
      ]
     },
     "execution_count": 13,
     "metadata": {},
     "output_type": "execute_result"
    }
   ],
   "source": [
    "f1"
   ]
  },
  {
   "cell_type": "code",
   "execution_count": 16,
   "id": "90ebe835",
   "metadata": {},
   "outputs": [],
   "source": [
    "# reduce(function, iterable)\n",
    "# to reduce to single iterable/value\n",
    "# repeatedly applies the function to the iterable \n",
    "from functools import reduce\n",
    "sum_num2= reduce(lambda x,y : x+ y, lis2)\n"
   ]
  },
  {
   "cell_type": "code",
   "execution_count": 17,
   "id": "7a4a548c",
   "metadata": {},
   "outputs": [
    {
     "data": {
      "text/plain": [
       "78"
      ]
     },
     "execution_count": 17,
     "metadata": {},
     "output_type": "execute_result"
    }
   ],
   "source": [
    "sum_num2"
   ]
  },
  {
   "cell_type": "code",
   "execution_count": 18,
   "id": "697637bb",
   "metadata": {},
   "outputs": [],
   "source": [
    "# # task 2: use filter, map, reduce to get the squared sum of even no from the list. \n",
    "# 1. Filter --> get even no.\n",
    "# 2. map --> sqare of even no. \n",
    "# 3. reduce --> final sum "
   ]
  },
  {
   "cell_type": "markdown",
   "id": "2bc8c396",
   "metadata": {},
   "source": [
    "### error handling"
   ]
  },
  {
   "cell_type": "code",
   "execution_count": 19,
   "id": "8102a8a8",
   "metadata": {},
   "outputs": [],
   "source": [
    "# handles the error that can arise in the program during execution \n",
    "# try/except \n",
    "# try/except/else/finally "
   ]
  },
  {
   "cell_type": "code",
   "execution_count": null,
   "id": "60547478",
   "metadata": {},
   "outputs": [],
   "source": [
    "# try: \n",
    "#     # code that can rise exception \n",
    "#     pass\n",
    "# except exception_type: \n",
    "#     # code that shows this exception \n",
    "#     pass\n",
    "# else: \n",
    "#     # program when run is success or there is no exception \n",
    "#     pass\n",
    "# finally: \n",
    "#     # always run this\n",
    "#     pass"
   ]
  },
  {
   "cell_type": "code",
   "execution_count": 24,
   "id": "4807eb7e",
   "metadata": {},
   "outputs": [
    {
     "name": "stdout",
     "output_type": "stream",
     "text": [
      "The input value is not correct\n",
      "Program Run successful\n"
     ]
    }
   ],
   "source": [
    "try: \n",
    "    num1= int(input('Enter the first no: '))\n",
    "    num2=  int(input('Enter the second number:'))\n",
    "    div_res= num1/num2 \n",
    "except ZeroDivisionError: \n",
    "    print('Second number cannot be zero')\n",
    "except ValueError: \n",
    "    print('The input value is not correct')\n",
    "else: \n",
    "    print(f'The result is {div_res}')\n",
    "finally: \n",
    "    print('Program Run successful')\n",
    "\n"
   ]
  },
  {
   "cell_type": "code",
   "execution_count": 25,
   "id": "8ecff68e",
   "metadata": {},
   "outputs": [],
   "source": [
    "# creating custom exception "
   ]
  },
  {
   "cell_type": "code",
   "execution_count": null,
   "id": "c25977e6",
   "metadata": {},
   "outputs": [
    {
     "name": "stdout",
     "output_type": "stream",
     "text": [
      "Age cannot be negative\n"
     ]
    }
   ],
   "source": [
    "class NegativeNumberError(Exception):\n",
    "    pass "
   ]
  },
  {
   "cell_type": "code",
   "execution_count": 30,
   "id": "c4c4e4dd",
   "metadata": {},
   "outputs": [],
   "source": [
    "def negative_age(x):\n",
    "    if x < 0 :\n",
    "        raise NegativeNumberError('Age cannot be negative')\n",
    "    return 'Age is valid' "
   ]
  },
  {
   "cell_type": "code",
   "execution_count": 31,
   "id": "b65a46d2",
   "metadata": {},
   "outputs": [
    {
     "name": "stdout",
     "output_type": "stream",
     "text": [
      "Age cannot be negative\n"
     ]
    }
   ],
   "source": [
    "try: \n",
    "    negative_age(-1)\n",
    "except NegativeNumberError as e: \n",
    "    print(e)"
   ]
  },
  {
   "cell_type": "code",
   "execution_count": null,
   "id": "a8d201ce",
   "metadata": {},
   "outputs": [],
   "source": [
    "# assignment 1: Build a CSV → JSON converter with exception handling"
   ]
  },
  {
   "cell_type": "markdown",
   "id": "424bcd9e",
   "metadata": {},
   "source": [
    "### python class "
   ]
  },
  {
   "cell_type": "code",
   "execution_count": 33,
   "id": "f8000d85",
   "metadata": {},
   "outputs": [],
   "source": [
    "class ClassName: \n",
    "    # class attributes and methods \n",
    "    pass \n",
    "\n",
    "# create a object of a class \n",
    "c1= ClassName()"
   ]
  },
  {
   "cell_type": "code",
   "execution_count": 39,
   "id": "2530174b",
   "metadata": {},
   "outputs": [],
   "source": [
    "class Car: \n",
    "    # constructor\n",
    "    def __init__(self, brand, model, year):\n",
    "        self.brand= brand\n",
    "        self.model = model \n",
    "        self.year= year\n",
    "        self.speed= 0 # default attribute  \n",
    "    \n",
    "    def display_info(self):\n",
    "        print(f'Build Year : {self.year}, Brand: {self.brand}, Model: {self.model}')\n",
    "    \n",
    "    def accelerate(self, amount):\n",
    "        self.speed += amount\n",
    "        print('Car speed is', self.speed, 'km/h')\n",
    "\n",
    "    "
   ]
  },
  {
   "cell_type": "code",
   "execution_count": 40,
   "id": "a1b0545d",
   "metadata": {},
   "outputs": [],
   "source": [
    "# create a object of a class \n",
    "c1= Car('Toyota', 'Hilux', 2017)"
   ]
  },
  {
   "cell_type": "code",
   "execution_count": 41,
   "id": "c81ca44c",
   "metadata": {},
   "outputs": [
    {
     "name": "stdout",
     "output_type": "stream",
     "text": [
      "Build Year : 2017, Brand: Toyota, Model: Hilux\n"
     ]
    }
   ],
   "source": [
    "c1.display_info()"
   ]
  },
  {
   "cell_type": "code",
   "execution_count": 44,
   "id": "bb4e6d76",
   "metadata": {},
   "outputs": [
    {
     "name": "stdout",
     "output_type": "stream",
     "text": [
      "Car speed is 240 km/h\n"
     ]
    }
   ],
   "source": [
    "c1.accelerate(80)"
   ]
  },
  {
   "cell_type": "code",
   "execution_count": 45,
   "id": "75e81da5",
   "metadata": {},
   "outputs": [],
   "source": [
    "### operator overloading , dunder methods (double underscore) __init__, __str__ "
   ]
  },
  {
   "cell_type": "code",
   "execution_count": 46,
   "id": "60703ce9",
   "metadata": {},
   "outputs": [],
   "source": [
    "# operators in python +, -, *, \n",
    "# + --> __add__ \n",
    "# str() -- > __str__"
   ]
  },
  {
   "cell_type": "code",
   "execution_count": 54,
   "id": "8abe1152",
   "metadata": {},
   "outputs": [],
   "source": [
    "# vector addition using operator overloading \n",
    "class Vector2D: \n",
    "    def __init__(self, x, y):\n",
    "        self.x= x\n",
    "        self.y= y \n",
    "    \n",
    "    # string overloading \n",
    "    def __str__(self):\n",
    "        return f'{self.x}, {self.y}'\n",
    "    \n",
    "    # addition v1 + v2 \n",
    "    def __add__(self, other):\n",
    "        return Vector2D(self.x + other.x, self.y+other.y)\n",
    "    \n",
    "    def __sub__(self, other):\n",
    "        return Vector2D(self.x - other.x, self.y-other.y)\n",
    "\n",
    "    \n",
    "\n",
    "    "
   ]
  },
  {
   "cell_type": "code",
   "execution_count": 55,
   "id": "81077fb7",
   "metadata": {},
   "outputs": [],
   "source": [
    "# instance of clas Vector2D \n",
    "v1= Vector2D(2,3)\n",
    "v2= Vector2D(3,4)"
   ]
  },
  {
   "cell_type": "code",
   "execution_count": 56,
   "id": "39b4c5af",
   "metadata": {},
   "outputs": [
    {
     "name": "stdout",
     "output_type": "stream",
     "text": [
      "5, 7\n"
     ]
    }
   ],
   "source": [
    "print(v1 + v2 )"
   ]
  },
  {
   "cell_type": "code",
   "execution_count": 57,
   "id": "dcb00289",
   "metadata": {},
   "outputs": [
    {
     "name": "stdout",
     "output_type": "stream",
     "text": [
      "-1, -1\n"
     ]
    }
   ],
   "source": [
    "print(v1-v2)"
   ]
  },
  {
   "cell_type": "markdown",
   "id": "0546610c",
   "metadata": {},
   "source": [
    "### inheritance, mixins, method overriding "
   ]
  },
  {
   "cell_type": "code",
   "execution_count": 60,
   "id": "679e6dc1",
   "metadata": {},
   "outputs": [],
   "source": [
    "class Animal():\n",
    "    def __init__(self):\n",
    "        pass\n",
    "\n",
    "    def speak(self):\n",
    "        print('Animal Speak')\n"
   ]
  },
  {
   "cell_type": "code",
   "execution_count": 66,
   "id": "73c39c8b",
   "metadata": {},
   "outputs": [],
   "source": [
    "# single inheritance with method overriding\n",
    "class Dog(Animal):\n",
    "    def __init__(self):\n",
    "        pass\n",
    "    def speak(self):\n",
    "        print('Dog Barks')\n"
   ]
  },
  {
   "cell_type": "code",
   "execution_count": 67,
   "id": "6bd9242c",
   "metadata": {},
   "outputs": [],
   "source": [
    "d1= Dog()"
   ]
  },
  {
   "cell_type": "code",
   "execution_count": 68,
   "id": "48f7eed6",
   "metadata": {},
   "outputs": [
    {
     "name": "stdout",
     "output_type": "stream",
     "text": [
      "Dog Barks\n"
     ]
    }
   ],
   "source": [
    "d1.speak()"
   ]
  },
  {
   "cell_type": "code",
   "execution_count": 69,
   "id": "0585c267",
   "metadata": {},
   "outputs": [],
   "source": [
    "class Employee():\n",
    "    def __init__(self, name, base_salary):\n",
    "        self.name = name\n",
    "        self.base_salary= base_salary\n",
    "    \n",
    "    def get_deatils(self):\n",
    "        return f'Employee Name: {self.name}, Salary: {self.base_salary}'"
   ]
  },
  {
   "cell_type": "code",
   "execution_count": null,
   "id": "685d2e86",
   "metadata": {},
   "outputs": [],
   "source": [
    "class Manager(Employee):\n",
    "    def __init__(self, name, base_salary, bonus):\n",
    "        super().__init__(name, base_salary)\n",
    "        self.bonus= bonus\n",
    "    def get_deatils(self):\n",
    "        base= super().get_deatils()\n",
    "        return f\"{base}, Bonus: {self.bonus}\""
   ]
  },
  {
   "cell_type": "code",
   "execution_count": 71,
   "id": "a07600c9",
   "metadata": {},
   "outputs": [],
   "source": [
    "e1= Employee('Krish', 1000)\n",
    "m1= Manager('Rick', 2000, 200)"
   ]
  },
  {
   "cell_type": "code",
   "execution_count": 72,
   "id": "8c4e6a85",
   "metadata": {},
   "outputs": [
    {
     "data": {
      "text/plain": [
       "'Employee Name: Krish, Salary: 1000'"
      ]
     },
     "execution_count": 72,
     "metadata": {},
     "output_type": "execute_result"
    }
   ],
   "source": [
    "e1.get_deatils()"
   ]
  },
  {
   "cell_type": "code",
   "execution_count": 73,
   "id": "81c9ebb9",
   "metadata": {},
   "outputs": [
    {
     "data": {
      "text/plain": [
       "'Employee Name: Rick, Salary: 2000, Bonus: 200'"
      ]
     },
     "execution_count": 73,
     "metadata": {},
     "output_type": "execute_result"
    }
   ],
   "source": [
    "m1.get_deatils()"
   ]
  },
  {
   "cell_type": "markdown",
   "id": "c227020e",
   "metadata": {},
   "source": [
    "### Mixins"
   ]
  },
  {
   "cell_type": "code",
   "execution_count": 1,
   "id": "ecdf629a",
   "metadata": {},
   "outputs": [],
   "source": [
    "# special class that add reusable functionality to other class, they are not fully parent \n",
    "# __init__ is not defined "
   ]
  },
  {
   "cell_type": "code",
   "execution_count": 2,
   "id": "e9456efc",
   "metadata": {},
   "outputs": [],
   "source": [
    "from datetime import datetime\n",
    "class LogMixin():\n",
    "    def log(self, message):\n",
    "        return f\"[{datetime.now()}]:{message}\"\n"
   ]
  },
  {
   "cell_type": "code",
   "execution_count": 7,
   "id": "32847f4a",
   "metadata": {},
   "outputs": [],
   "source": [
    "class User(LogMixin):\n",
    "    def __init__(self, username, password):\n",
    "        self.username= username\n",
    "        self.password= password\n",
    "    \n",
    "    def greet(self):\n",
    "        print(self.log(f\"{self.username} has logged in.\"))"
   ]
  },
  {
   "cell_type": "code",
   "execution_count": 8,
   "id": "b9cedc6e",
   "metadata": {},
   "outputs": [],
   "source": [
    "u1= User('admin', 'ad123')"
   ]
  },
  {
   "cell_type": "code",
   "execution_count": 9,
   "id": "34defd40",
   "metadata": {},
   "outputs": [
    {
     "name": "stdout",
     "output_type": "stream",
     "text": [
      "[2025-07-08 08:46:47.900865]:admin has logged in.\n"
     ]
    }
   ],
   "source": [
    "u1.greet()"
   ]
  },
  {
   "cell_type": "code",
   "execution_count": 10,
   "id": "ed98dfc8",
   "metadata": {},
   "outputs": [],
   "source": [
    "# class Product - price, name\n",
    "# mixins - DiscountMixins - method add_discount(percent)"
   ]
  },
  {
   "cell_type": "code",
   "execution_count": 23,
   "id": "9febab62",
   "metadata": {},
   "outputs": [],
   "source": [
    "class DiscountMixins():\n",
    "    def add_dicount(self, percent):\n",
    "        discount= self.price * (percent/100)\n",
    "        print( f\"Origial price is {self.price} and price after discount is {self.price-discount}\")"
   ]
  },
  {
   "cell_type": "code",
   "execution_count": 24,
   "id": "43b22b76",
   "metadata": {},
   "outputs": [],
   "source": [
    "class Product(DiscountMixins):\n",
    "    def __init__(self, name, price):\n",
    "        self.name= name\n",
    "        self.price = price\n",
    "    def final_price(self):\n",
    "        super().add_dicount(20)\n",
    "        "
   ]
  },
  {
   "cell_type": "code",
   "execution_count": 25,
   "id": "79256911",
   "metadata": {},
   "outputs": [],
   "source": [
    "p1= Product('rice', 3000)"
   ]
  },
  {
   "cell_type": "code",
   "execution_count": 26,
   "id": "53cbf5fb",
   "metadata": {},
   "outputs": [
    {
     "name": "stdout",
     "output_type": "stream",
     "text": [
      "Origial price is 3000 and price after discount is 2400.0\n"
     ]
    }
   ],
   "source": [
    "p1.final_price()"
   ]
  },
  {
   "cell_type": "code",
   "execution_count": null,
   "id": "8643a2d0",
   "metadata": {},
   "outputs": [],
   "source": [
    "# new line added "
   ]
  }
 ],
 "metadata": {
  "kernelspec": {
   "display_name": "Python 3",
   "language": "python",
   "name": "python3"
  },
  "language_info": {
   "codemirror_mode": {
    "name": "ipython",
    "version": 3
   },
   "file_extension": ".py",
   "mimetype": "text/x-python",
   "name": "python",
   "nbconvert_exporter": "python",
   "pygments_lexer": "ipython3",
   "version": "3.10.11"
  }
 },
 "nbformat": 4,
 "nbformat_minor": 5
}
